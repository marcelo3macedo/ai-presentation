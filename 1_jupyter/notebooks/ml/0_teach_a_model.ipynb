{
 "cells": [
  {
   "cell_type": "markdown",
   "id": "90c865c7-2620-425e-834d-29d1df54e535",
   "metadata": {},
   "source": [
    "# Aprendizado de Máquina\n",
    "\n",
    "Ensinando informações a um modelo:\n",
    "\n",
    "- Utilização de Pandas e scikit-learn\n",
    "- https://scikit-learn.org/stable/"
   ]
  },
  {
   "cell_type": "code",
   "execution_count": 1,
   "id": "63aefc45-ed9d-4af1-90ad-88f11ca55628",
   "metadata": {
    "tags": []
   },
   "outputs": [],
   "source": [
    "import pandas as pd\n",
    "from sklearn.feature_extraction.text import CountVectorizer\n",
    "from sklearn.model_selection import train_test_split\n",
    "from sklearn.naive_bayes import MultinomialNB\n",
    "from sklearn.metrics import accuracy_score"
   ]
  },
  {
   "cell_type": "code",
   "execution_count": 25,
   "id": "74eb0fe7-82c0-4300-9926-90a1b8315142",
   "metadata": {
    "tags": []
   },
   "outputs": [
    {
     "name": "stdout",
     "output_type": "stream",
     "text": [
      "Accuracy: 0.6\n"
     ]
    }
   ],
   "source": [
    "# Load CSV data into Pandas DataFrame\n",
    "data = pd.read_csv(\"_data/chatbot_data.csv\")\n",
    "\n",
    "# Split data into input (X) and output (y) columns\n",
    "X = data[\"input\"]\n",
    "y = data[\"output\"]\n",
    "\n",
    "# Vectorize input text data\n",
    "vectorizer = CountVectorizer()\n",
    "X = vectorizer.fit_transform(X)\n",
    "\n",
    "# Split data into training and testing sets\n",
    "X_train, X_test, y_train, y_test = train_test_split(X, y, test_size=0.2, random_state=42)\n",
    "\n",
    "# Train the model using Multinomial Naive Bayes classifier\n",
    "clf = MultinomialNB()\n",
    "clf.fit(X_train, y_train)\n",
    "\n",
    "# Predict the outputs for test inputs\n",
    "y_pred = clf.predict(X_test)\n",
    "\n",
    "# Calculate accuracy of the model\n",
    "accuracy = accuracy_score(y_test, y_pred)\n",
    "print(\"Accuracy:\", accuracy)"
   ]
  },
  {
   "cell_type": "code",
   "execution_count": 4,
   "id": "cbe8d66d-90b5-4a89-b10b-36128e822320",
   "metadata": {
    "tags": []
   },
   "outputs": [
    {
     "name": "stdout",
     "output_type": "stream",
     "text": [
      "['olá tudo bem?']\n"
     ]
    }
   ],
   "source": [
    "# Texto a ser validado\n",
    "texto = \"olá\"\n",
    "\n",
    "# Pré-processamento do texto\n",
    "texto_transformado = vectorizer.transform([texto])\n",
    "\n",
    "# Validação do texto\n",
    "resposta = clf.predict(texto_transformado)\n",
    "print(resposta)"
   ]
  },
  {
   "cell_type": "code",
   "execution_count": 5,
   "id": "a306e3ad-a634-4845-a98b-43407b8f14af",
   "metadata": {
    "tags": []
   },
   "outputs": [
    {
     "name": "stdout",
     "output_type": "stream",
     "text": [
      "['Serjão matador de onça']\n"
     ]
    }
   ],
   "source": [
    "# Texto a ser validado\n",
    "texto = \"Quem é o ídolo do Henrique de Automação?\"\n",
    "\n",
    "# Pré-processamento do texto\n",
    "texto_transformado = vectorizer.transform([texto])\n",
    "\n",
    "# Validação do texto\n",
    "resposta = clf.predict(texto_transformado)\n",
    "print(resposta)"
   ]
  },
  {
   "cell_type": "code",
   "execution_count": 26,
   "id": "d33d450a-ef34-49f7-9dba-3af387d0dceb",
   "metadata": {
    "tags": []
   },
   "outputs": [
    {
     "name": "stdout",
     "output_type": "stream",
     "text": [
      "['São Paulo']\n"
     ]
    }
   ],
   "source": [
    "# Texto a ser validado\n",
    "texto = \"Melhor time do Brasil\"\n",
    "\n",
    "# Pré-processamento do texto\n",
    "texto_transformado = vectorizer.transform([texto])\n",
    "\n",
    "# Validação do texto\n",
    "resposta = clf.predict(texto_transformado)\n",
    "print(resposta)"
   ]
  },
  {
   "cell_type": "code",
   "execution_count": 27,
   "id": "3f4baa63-cc4b-4f18-b4ea-cd4f4308844a",
   "metadata": {
    "tags": []
   },
   "outputs": [
    {
     "name": "stdout",
     "output_type": "stream",
     "text": [
      "['Não. O palmeiras não tem mundial.']\n"
     ]
    }
   ],
   "source": [
    "# Texto a ser validado\n",
    "texto = \"O palmeiras tem mundial?\"\n",
    "\n",
    "# Pré-processamento do texto\n",
    "texto_transformado = vectorizer.transform([texto])\n",
    "\n",
    "# Validação do texto\n",
    "resposta = clf.predict(texto_transformado)\n",
    "print(resposta)"
   ]
  }
 ],
 "metadata": {
  "kernelspec": {
   "display_name": "Python 3 (ipykernel)",
   "language": "python",
   "name": "python3"
  },
  "language_info": {
   "codemirror_mode": {
    "name": "ipython",
    "version": 3
   },
   "file_extension": ".py",
   "mimetype": "text/x-python",
   "name": "python",
   "nbconvert_exporter": "python",
   "pygments_lexer": "ipython3",
   "version": "3.10.9"
  }
 },
 "nbformat": 4,
 "nbformat_minor": 5
}
