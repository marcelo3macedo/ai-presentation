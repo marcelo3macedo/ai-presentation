{
 "cells": [
  {
   "cell_type": "markdown",
   "id": "2bd60373-7901-4021-86ba-e0a5bb6bd5e4",
   "metadata": {},
   "source": [
    "# Sinônimos\n",
    "\n",
    "Encontra sinônimos da palavra em questão\n",
    "\n",
    "https://www.nltk.org/"
   ]
  },
  {
   "cell_type": "code",
   "execution_count": null,
   "id": "742f886a-801f-4c96-af15-805ba435a96e",
   "metadata": {
    "tags": []
   },
   "outputs": [],
   "source": [
    "pip install nltk"
   ]
  },
  {
   "cell_type": "code",
   "execution_count": 1,
   "id": "84cadee4-febd-42c9-aad5-d6a6af1c76a9",
   "metadata": {
    "tags": []
   },
   "outputs": [
    {
     "name": "stderr",
     "output_type": "stream",
     "text": [
      "[nltk_data] Downloading package wordnet to /home/jovyan/nltk_data...\n",
      "[nltk_data]   Package wordnet is already up-to-date!\n",
      "[nltk_data] Downloading package omw-1.4 to /home/jovyan/nltk_data...\n",
      "[nltk_data]   Package omw-1.4 is already up-to-date!\n"
     ]
    },
    {
     "data": {
      "text/plain": [
       "True"
      ]
     },
     "execution_count": 1,
     "metadata": {},
     "output_type": "execute_result"
    }
   ],
   "source": [
    "import nltk\n",
    "from nltk.corpus import wordnet\n",
    "\n",
    "nltk.download('wordnet')\n",
    "nltk.download('omw-1.4')"
   ]
  },
  {
   "cell_type": "code",
   "execution_count": 2,
   "id": "3443c17e-bdad-45f6-b8d7-896c187d1b0b",
   "metadata": {
    "tags": []
   },
   "outputs": [
    {
     "name": "stdout",
     "output_type": "stream",
     "text": [
      "{'desejar', 'devanear', 'ter_vontade', 'ter_esperança', 'esperança', 'pretender', 'suspirar', 'esperar', 'querer', 'cobiçar', 'ter_sede', 'fantasiar', 'ansiar', 'sonhar'}\n"
     ]
    }
   ],
   "source": [
    "synonyms = []\n",
    "\n",
    "for syn in wordnet.synsets(\"desejar\", lang='por'):\n",
    "    for i in syn.lemmas(lang='por'):\n",
    "        synonyms.append(i.name())\n",
    "\n",
    "print(set(synonyms))"
   ]
  },
  {
   "cell_type": "code",
   "execution_count": 7,
   "id": "fcd48d36-fcd5-4b72-b8a2-f2fdc769c6de",
   "metadata": {
    "tags": []
   },
   "outputs": [
    {
     "name": "stdout",
     "output_type": "stream",
     "text": [
      "{'obter', 'beneficiar', 'atingir', 'desempenhar', 'efectuar', 'efectivar', 'comprar', 'lucrar', 'cumprir', 'arranjar', 'realizar', 'ganhar', 'auferir', 'vencer', 'fazer', 'adquirir', 'chegar_a', 'efetuar', 'conquistar', 'executar', 'acontecer', 'receber'}\n"
     ]
    }
   ],
   "source": [
    "synonyms = []\n",
    "\n",
    "for syn in wordnet.synsets(\"adquirir\", lang='por'):\n",
    "    for i in syn.lemmas(lang='por'):\n",
    "        synonyms.append(i.name())\n",
    "\n",
    "print(set(synonyms))"
   ]
  }
 ],
 "metadata": {
  "kernelspec": {
   "display_name": "Python 3 (ipykernel)",
   "language": "python",
   "name": "python3"
  },
  "language_info": {
   "codemirror_mode": {
    "name": "ipython",
    "version": 3
   },
   "file_extension": ".py",
   "mimetype": "text/x-python",
   "name": "python",
   "nbconvert_exporter": "python",
   "pygments_lexer": "ipython3",
   "version": "3.10.9"
  }
 },
 "nbformat": 4,
 "nbformat_minor": 5
}
