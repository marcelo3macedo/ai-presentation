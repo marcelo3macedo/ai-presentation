{
 "cells": [
  {
   "cell_type": "markdown",
   "id": "483d6210-b1da-4594-8bf4-e8ce600d29b9",
   "metadata": {
    "tags": []
   },
   "source": [
    "# Similiaridade\n",
    "\n",
    "Em casos em que ocorra erros de digitação, você pode através do modelo da spacy.\n",
    "\n",
    "Encontrar casos de similiaridade"
   ]
  },
  {
   "cell_type": "code",
   "execution_count": 2,
   "id": "16af854c-edc0-4a78-b64a-f6ecc01cf9cd",
   "metadata": {
    "tags": []
   },
   "outputs": [],
   "source": [
    "import spacy\n",
    "\n",
    "# Carrega o modelo pré-treinado em português\n",
    "nlp = spacy.load(\"pt_core_news_sm\")"
   ]
  },
  {
   "cell_type": "code",
   "execution_count": 3,
   "id": "a071a682-bc43-4e92-8293-4bed0f0ae8b1",
   "metadata": {
    "tags": []
   },
   "outputs": [
    {
     "name": "stdout",
     "output_type": "stream",
     "text": [
      "A palavra mais similar a 'cachorro' é: caixorro\n"
     ]
    },
    {
     "name": "stderr",
     "output_type": "stream",
     "text": [
      "/tmp/ipykernel_11645/3576471843.py:11: UserWarning: [W007] The model you're using has no word vectors loaded, so the result of the Token.similarity method will be based on the tagger, parser and NER, which may not give useful similarity judgements. This may happen if you're using one of the small models, e.g. `en_core_web_sm`, which don't ship with word vectors and only use context-sensitive tensors. You can always add your own word vectors, or use one of the larger models instead if available.\n",
      "  palavra_mais_similar = max(doc, key=lambda token: token.similarity(palavra_referencia))\n"
     ]
    }
   ],
   "source": [
    "# Define o texto de entrada\n",
    "texto = \"Eu tenho um caixorro em casa.\"\n",
    "\n",
    "# Processa o texto com o modelo\n",
    "doc = nlp(texto)\n",
    "\n",
    "# Define a palavra de referência para comparar\n",
    "palavra_referencia = nlp(\"cachorro\")\n",
    "\n",
    "# Encontra a palavra mais semelhante ao termo de referência\n",
    "palavra_mais_similar = max(doc, key=lambda token: token.similarity(palavra_referencia))\n",
    "\n",
    "# Imprime o resultado\n",
    "print(f\"A palavra mais similar a 'cachorro' é: {palavra_mais_similar.text}\")"
   ]
  },
  {
   "cell_type": "code",
   "execution_count": 4,
   "id": "ee466cb4-7742-491f-8437-37603f5eef84",
   "metadata": {
    "tags": []
   },
   "outputs": [
    {
     "name": "stdout",
     "output_type": "stream",
     "text": [
      "A palavra mais similar a 'Arnold Schwarzenegger' é: schwaneggar\n"
     ]
    },
    {
     "name": "stderr",
     "output_type": "stream",
     "text": [
      "/tmp/ipykernel_11645/800991953.py:11: UserWarning: [W007] The model you're using has no word vectors loaded, so the result of the Token.similarity method will be based on the tagger, parser and NER, which may not give useful similarity judgements. This may happen if you're using one of the small models, e.g. `en_core_web_sm`, which don't ship with word vectors and only use context-sensitive tensors. You can always add your own word vectors, or use one of the larger models instead if available.\n",
      "  palavra_mais_similar = max(doc, key=lambda token: token.similarity(palavra_referencia))\n"
     ]
    }
   ],
   "source": [
    "# Define o texto de entrada\n",
    "texto = \"Eu sou fã do Arnold schwaneggar\"\n",
    "\n",
    "# Processa o texto com o modelo\n",
    "doc = nlp(texto)\n",
    "\n",
    "# Define a palavra de referência para comparar\n",
    "palavra_referencia = nlp(\"schwarzenegger\")\n",
    "\n",
    "# Encontra a palavra mais semelhante ao termo de referência\n",
    "palavra_mais_similar = max(doc, key=lambda token: token.similarity(palavra_referencia))\n",
    "\n",
    "# Imprime o resultado\n",
    "print(f\"A palavra mais similar a 'Arnold Schwarzenegger' é: {palavra_mais_similar.text}\")"
   ]
  }
 ],
 "metadata": {
  "kernelspec": {
   "display_name": "Python 3 (ipykernel)",
   "language": "python",
   "name": "python3"
  },
  "language_info": {
   "codemirror_mode": {
    "name": "ipython",
    "version": 3
   },
   "file_extension": ".py",
   "mimetype": "text/x-python",
   "name": "python",
   "nbconvert_exporter": "python",
   "pygments_lexer": "ipython3",
   "version": "3.10.9"
  }
 },
 "nbformat": 4,
 "nbformat_minor": 5
}
