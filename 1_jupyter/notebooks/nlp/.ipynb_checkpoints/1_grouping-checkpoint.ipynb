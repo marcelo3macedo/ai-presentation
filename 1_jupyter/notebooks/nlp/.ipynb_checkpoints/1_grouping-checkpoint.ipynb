{
 "cells": [
  {
   "cell_type": "markdown",
   "id": "e9b5e5c0-a4ea-4dca-b4c2-39c0e2d3f5ed",
   "metadata": {},
   "source": [
    "# Agrupamento\n",
    "\n",
    "Dada uma determinada entrada, você deseja classificá-la em um determinado grupo:\n",
    "- Variação linguística\n",
    "- Erros de digitação\n",
    "- Sinônimos / Semelhanças\n",
    "\n",
    "Para agrupar palavras que representam algo, você pode usar:"
   ]
  },
  {
   "cell_type": "code",
   "execution_count": null,
   "id": "978aa35b-8be6-4a94-899d-6c21d4a6e082",
   "metadata": {
    "tags": []
   },
   "outputs": [],
   "source": [
    "pip install spacy"
   ]
  },
  {
   "cell_type": "code",
   "execution_count": null,
   "id": "88e4a486-6ec1-4514-9dfa-02ed352f87e9",
   "metadata": {
    "tags": []
   },
   "outputs": [],
   "source": [
    "!python3 -m spacy download pt_core_news_sm"
   ]
  },
  {
   "cell_type": "code",
   "execution_count": 1,
   "id": "0ec22ba9-a6a9-4545-9ab8-a22e2e0741c8",
   "metadata": {
    "tags": []
   },
   "outputs": [],
   "source": [
    "import spacy\n",
    "from spacy.matcher import PhraseMatcher\n",
    "\n",
    "nlp = spacy.load(\"pt_core_news_sm\")"
   ]
  },
  {
   "cell_type": "code",
   "execution_count": 5,
   "id": "1760d524-e405-4add-9d21-4f2830b5336e",
   "metadata": {
    "tags": []
   },
   "outputs": [
    {
     "name": "stdout",
     "output_type": "stream",
     "text": [
      "cachorro\n",
      "dog\n",
      "cahcorro\n"
     ]
    }
   ],
   "source": [
    "dog_terms = [ 'cachorro', 'cão', 'dog', 'auau', 'cahcorro' ]\n",
    "\n",
    "matcher = PhraseMatcher(nlp.vocab)\n",
    "patterns = [nlp(term) for term in dog_terms]\n",
    "matcher.add('cachorro', None, *patterns)\n",
    "\n",
    "text = 'Meu cachorro, dog se chama pitucha, ele é um cahcorro'\n",
    "\n",
    "doc = nlp(text)\n",
    "matches = matcher(doc)\n",
    "\n",
    "for match_id, start, end in matches:\n",
    "    print(doc[start:end])"
   ]
  },
  {
   "cell_type": "code",
   "execution_count": 9,
   "id": "3a52e6cb-d065-46fb-bf06-800370a9ca21",
   "metadata": {
    "tags": []
   },
   "outputs": [
    {
     "name": "stdout",
     "output_type": "stream",
     "text": [
      "gato\n",
      "miau\n",
      "meow\n",
      "fofinho\n",
      "gatinho\n",
      "gatão\n",
      "peludinho\n"
     ]
    }
   ],
   "source": [
    "cat_terms = [ 'gato', 'miau', 'meow', 'fofinho', 'gatinho', 'gatão', 'peludinho' ]\n",
    "\n",
    "matcher = PhraseMatcher(nlp.vocab)\n",
    "patterns = [nlp(term) for term in cat_terms]\n",
    "matcher.add('gato', None, *patterns)\n",
    "\n",
    "text = 'Meu gato Jujuba é um miau (meow) bem fofinho. Um gatinho, gatão peludinho.'\n",
    "\n",
    "doc = nlp(text)\n",
    "matches = matcher(doc)\n",
    "\n",
    "for match_id, start, end in matches:\n",
    "    print(doc[start:end])"
   ]
  }
 ],
 "metadata": {
  "kernelspec": {
   "display_name": "Python 3 (ipykernel)",
   "language": "python",
   "name": "python3"
  },
  "language_info": {
   "codemirror_mode": {
    "name": "ipython",
    "version": 3
   },
   "file_extension": ".py",
   "mimetype": "text/x-python",
   "name": "python",
   "nbconvert_exporter": "python",
   "pygments_lexer": "ipython3",
   "version": "3.10.9"
  }
 },
 "nbformat": 4,
 "nbformat_minor": 5
}
