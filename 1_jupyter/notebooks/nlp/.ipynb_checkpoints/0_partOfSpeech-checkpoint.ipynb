{
 "cells": [
  {
   "cell_type": "markdown",
   "id": "e9b5e5c0-a4ea-4dca-b4c2-39c0e2d3f5ed",
   "metadata": {},
   "source": [
    "# POS - Parte do discurso\n",
    "## Processamento de linguagem natural\n",
    "\n",
    "A marcação de parte do discurso (POS) é uma técnica usada em PNL para categorizar palavras em um texto com base em sua função gramatical e contexto. \n",
    "Envolve rotular cada palavra em uma frase com sua parte apropriada do discurso (por exemplo, substantivo, verbo, adjetivo) com base no contexto e na definição. \n",
    "A marcação de POS é uma etapa importante em muitas tarefas de NLP, como reconhecimento de entidade nomeada, análise de sentimento e tradução automática.\n",
    "\n",
    "https://spacy.io/"
   ]
  },
  {
   "cell_type": "code",
   "execution_count": null,
   "id": "978aa35b-8be6-4a94-899d-6c21d4a6e082",
   "metadata": {
    "tags": []
   },
   "outputs": [],
   "source": [
    "pip install spacy"
   ]
  },
  {
   "cell_type": "code",
   "execution_count": null,
   "id": "88e4a486-6ec1-4514-9dfa-02ed352f87e9",
   "metadata": {
    "tags": []
   },
   "outputs": [],
   "source": [
    "!python3 -m spacy download pt_core_news_sm"
   ]
  },
  {
   "cell_type": "code",
   "execution_count": 1,
   "id": "0ec22ba9-a6a9-4545-9ab8-a22e2e0741c8",
   "metadata": {
    "tags": []
   },
   "outputs": [],
   "source": [
    "import spacy\n",
    "from spacy.matcher import PhraseMatcher\n",
    "\n",
    "nlp = spacy.load(\"pt_core_news_sm\")"
   ]
  },
  {
   "cell_type": "code",
   "execution_count": 2,
   "id": "1760d524-e405-4add-9d21-4f2830b5336e",
   "metadata": {
    "tags": []
   },
   "outputs": [
    {
     "name": "stdout",
     "output_type": "stream",
     "text": [
      "O DET\n",
      "cachorro NOUN\n",
      "correu VERB\n",
      "pelo ADP\n",
      "parque NOUN\n"
     ]
    }
   ],
   "source": [
    "text = \"O cachorro correu pelo parque\"\n",
    "\n",
    "doc = nlp(text)\n",
    "\n",
    "for token in doc:\n",
    "    print(token.text, token.pos_)"
   ]
  },
  {
   "cell_type": "code",
   "execution_count": 3,
   "id": "60490626-18af-4f9d-9e82-08d3a4b7931e",
   "metadata": {
    "tags": []
   },
   "outputs": [
    {
     "name": "stdout",
     "output_type": "stream",
     "text": [
      "O DET\n",
      "gato NOUN\n",
      "bebeu VERB\n",
      "leite NOUN\n"
     ]
    }
   ],
   "source": [
    "text = \"O gato bebeu leite\"\n",
    "\n",
    "doc = nlp(text)\n",
    "\n",
    "for token in doc:\n",
    "    print(token.text, token.pos_)"
   ]
  }
 ],
 "metadata": {
  "kernelspec": {
   "display_name": "Python 3 (ipykernel)",
   "language": "python",
   "name": "python3"
  },
  "language_info": {
   "codemirror_mode": {
    "name": "ipython",
    "version": 3
   },
   "file_extension": ".py",
   "mimetype": "text/x-python",
   "name": "python",
   "nbconvert_exporter": "python",
   "pygments_lexer": "ipython3",
   "version": "3.10.9"
  }
 },
 "nbformat": 4,
 "nbformat_minor": 5
}
