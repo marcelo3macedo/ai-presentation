{
 "cells": [
  {
   "cell_type": "code",
   "execution_count": null,
   "id": "742f886a-801f-4c96-af15-805ba435a96e",
   "metadata": {
    "tags": []
   },
   "outputs": [],
   "source": [
    "pip install nltk"
   ]
  },
  {
   "cell_type": "code",
   "execution_count": null,
   "id": "84cadee4-febd-42c9-aad5-d6a6af1c76a9",
   "metadata": {
    "tags": []
   },
   "outputs": [],
   "source": [
    "import nltk\n",
    "\n",
    "nltk.download('wordnet')\n",
    "nltk.download('omw-1.4')"
   ]
  },
  {
   "cell_type": "code",
   "execution_count": 49,
   "id": "3443c17e-bdad-45f6-b8d7-896c187d1b0b",
   "metadata": {
    "tags": []
   },
   "outputs": [
    {
     "name": "stdout",
     "output_type": "stream",
     "text": [
      "{'suspirar', 'fantasiar', 'ter_esperança', 'devanear', 'cobiçar', 'esperança', 'ansiar', 'pretender', 'querer', 'sonhar', 'esperar', 'ter_sede', 'desejar', 'ter_vontade'}\n"
     ]
    }
   ],
   "source": [
    "from nltk.corpus import wordnet\n",
    "\n",
    "synonyms = []\n",
    "\n",
    "for syn in wordnet.synsets(\"desejar\", lang='por'):\n",
    "    for i in syn.lemmas(lang='por'):\n",
    "        synonyms.append(i.name())\n",
    "\n",
    "print(set(synonyms))"
   ]
  }
 ],
 "metadata": {
  "kernelspec": {
   "display_name": "Python 3 (ipykernel)",
   "language": "python",
   "name": "python3"
  },
  "language_info": {
   "codemirror_mode": {
    "name": "ipython",
    "version": 3
   },
   "file_extension": ".py",
   "mimetype": "text/x-python",
   "name": "python",
   "nbconvert_exporter": "python",
   "pygments_lexer": "ipython3",
   "version": "3.10.9"
  }
 },
 "nbformat": 4,
 "nbformat_minor": 5
}
