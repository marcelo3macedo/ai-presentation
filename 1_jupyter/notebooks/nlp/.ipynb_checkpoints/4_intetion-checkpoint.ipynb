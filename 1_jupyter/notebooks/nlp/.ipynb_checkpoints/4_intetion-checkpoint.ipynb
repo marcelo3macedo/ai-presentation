{
 "cells": [
  {
   "cell_type": "markdown",
   "id": "178bb616-f93b-40ab-84fd-f5a89d0b76cf",
   "metadata": {},
   "source": [
    "# Intenções\n",
    "\n",
    "Detectar intenções do Usuário"
   ]
  },
  {
   "cell_type": "code",
   "execution_count": 2,
   "id": "4d726807-0344-42de-98f8-445d7634d4dd",
   "metadata": {
    "tags": []
   },
   "outputs": [],
   "source": [
    "import spacy\n",
    "\n",
    "nlp = spacy.load(\"pt_core_news_sm\")"
   ]
  },
  {
   "cell_type": "code",
   "execution_count": 3,
   "id": "006172a5-3d6d-45db-929d-62874eba6763",
   "metadata": {
    "tags": []
   },
   "outputs": [
    {
     "name": "stdout",
     "output_type": "stream",
     "text": [
      "Intenção do usuário: querer\n",
      "Objeto de interesse: ['relógio', 'contador', 'passos']\n",
      "Atributos do objeto: ['contador', 'passos']\n"
     ]
    }
   ],
   "source": [
    "# Analisar a frase\n",
    "doc = nlp(\"quero um relógio com contador de passos\")\n",
    "\n",
    "# Definir listas vazias para armazenar os resultados da extração de informações\n",
    "objetos_de_interesse = []\n",
    "atributos_dos_objetos = []\n",
    "\n",
    "for token in doc:\n",
    "    # Extrair o objeto de interesse\n",
    "    if token.pos_ == \"NOUN\":\n",
    "        objeto = token.text.lower()\n",
    "        # Verificar se o substantivo é modificado por um adjetivo relevante\n",
    "        if len(list(token.children)) > 0 and list(token.children)[0].pos_ == \"ADJ\":\n",
    "            objeto = list(token.children)[0].text.lower() + \" \" + objeto\n",
    "        objetos_de_interesse.append(objeto)\n",
    "    # Extrair atributos do objeto de interesse\n",
    "    if token.pos_ == \"NOUN\" and token.head.text.lower() in objetos_de_interesse:\n",
    "        atributo = token.text.lower()\n",
    "        # Verificar se o substantivo é modificado por um adjetivo relevante\n",
    "        if len(list(token.children)) > 0 and list(token.children)[0].pos_ == \"ADJ\":\n",
    "            atributo = token.children[0].text.lower() + \" \" + atributo\n",
    "        atributos_dos_objetos.append(atributo)\n",
    "\n",
    "# Extrair a intenção do usuário\n",
    "intencao = [token.lemma_ for token in doc if token.pos_ == \"VERB\"][0]\n",
    "\n",
    "# Imprimir as informações extraídas\n",
    "print(\"Intenção do usuário: {}\".format(intencao))\n",
    "print(\"Objeto de interesse: {}\".format(objetos_de_interesse))\n",
    "print(\"Atributos do objeto: {}\".format(atributos_dos_objetos))"
   ]
  },
  {
   "cell_type": "code",
   "execution_count": 10,
   "id": "97950317-3f95-49bb-bf04-825e9d1228a3",
   "metadata": {
    "tags": []
   },
   "outputs": [
    {
     "name": "stdout",
     "output_type": "stream",
     "text": [
      "Intenção do usuário: vender\n",
      "Objeto de interesse: ['mouse', 'fio']\n",
      "Atributos do objeto: ['fio']\n"
     ]
    }
   ],
   "source": [
    "# Analisar a frase\n",
    "doc = nlp(\"vender um mouse com fio\")\n",
    "\n",
    "# Definir listas vazias para armazenar os resultados da extração de informações\n",
    "objetos_de_interesse = []\n",
    "atributos_dos_objetos = []\n",
    "\n",
    "for token in doc:\n",
    "    # Extrair o objeto de interesse\n",
    "    if token.pos_ == \"NOUN\":\n",
    "        objeto = token.text.lower()\n",
    "        # Verificar se o substantivo é modificado por um adjetivo relevante\n",
    "        if len(list(token.children)) > 0 and list(token.children)[0].pos_ == \"ADJ\":\n",
    "            objeto = list(token.children)[0].text.lower() + \" \" + objeto\n",
    "        objetos_de_interesse.append(objeto)\n",
    "    # Extrair atributos do objeto de interesse\n",
    "    if token.pos_ == \"NOUN\" and token.head.text.lower() in objetos_de_interesse:\n",
    "        atributo = token.text.lower()\n",
    "        # Verificar se o substantivo é modificado por um adjetivo relevante\n",
    "        if len(list(token.children)) > 0 and list(token.children)[0].pos_ == \"ADJ\":\n",
    "            atributo = token.children[0].text.lower() + \" \" + atributo\n",
    "        atributos_dos_objetos.append(atributo)\n",
    "\n",
    "# Extrair a intenção do usuário\n",
    "intencao = [token.lemma_ for token in doc if token.pos_ == \"VERB\"][0]\n",
    "\n",
    "# Imprimir as informações extraídas\n",
    "print(\"Intenção do usuário: {}\".format(intencao))\n",
    "print(\"Objeto de interesse: {}\".format(objetos_de_interesse))\n",
    "print(\"Atributos do objeto: {}\".format(atributos_dos_objetos))"
   ]
  }
 ],
 "metadata": {
  "kernelspec": {
   "display_name": "Python 3 (ipykernel)",
   "language": "python",
   "name": "python3"
  },
  "language_info": {
   "codemirror_mode": {
    "name": "ipython",
    "version": 3
   },
   "file_extension": ".py",
   "mimetype": "text/x-python",
   "name": "python",
   "nbconvert_exporter": "python",
   "pygments_lexer": "ipython3",
   "version": "3.10.9"
  }
 },
 "nbformat": 4,
 "nbformat_minor": 5
}
